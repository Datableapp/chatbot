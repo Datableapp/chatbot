{
 "cells": [
  {
   "cell_type": "markdown",
   "id": "9a8d5f50",
   "metadata": {},
   "source": [
    "# Saverlife Chatbot Demo\n",
    "### Ask the chatbot questions about your finances"
   ]
  },
  {
   "cell_type": "code",
   "execution_count": 1,
   "id": "027b6af1",
   "metadata": {},
   "outputs": [],
   "source": [
    "# !pip install voila\n",
    "# !jupyter serverextension enable --sys-prefix voila "
   ]
  },
  {
   "cell_type": "code",
   "execution_count": 2,
   "id": "ea0e32bf",
   "metadata": {},
   "outputs": [],
   "source": [
    "import ipywidgets as widgets\n",
    "from fastai.text.all import *"
   ]
  },
  {
   "cell_type": "code",
   "execution_count": 3,
   "id": "aea3f5ad",
   "metadata": {},
   "outputs": [],
   "source": [
    "def _end_headline(x):\n",
    "    if type(x) != str: return ''\n",
    "    if x[-1] in ['.', '?', '!', '…', ':', '“', '”']: return x + ' '\n",
    "    else: return x + '. '\n",
    "\n",
    "def prep_text(file = 'text-1-15c.csv'):\n",
    "    df = pd.read_csv(file)\n",
    "    df = df[~df.text.isna()].copy()\n",
    "    df = df[['headline', 'segment', 'subheading', 'text',\n",
    "                               'top_tag', 'url', 'text length']].copy()\n",
    "    df['joincol'] = df['subheading']\n",
    "    df.loc[df.joincol=='','joincol'] = df.loc[df.joincol=='','headline']\n",
    "    df.joincol = df.joincol.map(_end_headline).values\n",
    "    df = df[df.headline.map(lambda x: x[:33]) != \"Ask an Expert episode 2 follow-up\"]\n",
    "    return(df)\n",
    "\n",
    "def breakup_text(text, max=90):\n",
    "    if len(text) < max:\n",
    "        print(text)\n",
    "    else:\n",
    "        for i in range(max-1,1,-1):\n",
    "            if text[i] == ' ':\n",
    "                print(text[:i])\n",
    "                break\n",
    "        breakup_text(text[i:].strip())\n",
    "\n",
    "# sdf = prep_text()\n",
    "# sdf.to_pickle('segment_df.pkl')\n",
    "sdf = pd.read_pickle('segment_df.pkl')"
   ]
  },
  {
   "cell_type": "code",
   "execution_count": 4,
   "id": "0c4e744b",
   "metadata": {},
   "outputs": [],
   "source": [
    "import urllib.request\n",
    "\n",
    "MODEL_URL = \"https://www.dropbox.com/s/tmu82r4pd9h0ek8/chat_model.pkl?dl=1\"\n",
    "\n",
    "urllib.request.urlretrieve(MODEL_URL, \"model.pkl\")\n",
    "\n",
    "learn = load_learner(\"model.pkl\")"
   ]
  },
  {
   "cell_type": "code",
   "execution_count": 5,
   "id": "13de1f97",
   "metadata": {},
   "outputs": [],
   "source": [
    "class color:\n",
    "   PURPLE = '\\033[95m'\n",
    "   CYAN = '\\033[96m'\n",
    "   DARKCYAN = '\\033[36m'\n",
    "   BLUE = '\\033[94m'\n",
    "   GREEN = '\\033[92m'\n",
    "   YELLOW = '\\033[93m'\n",
    "   RED = '\\033[91m'\n",
    "   BOLD = '\\033[1m'\n",
    "   UNDERLINE = '\\033[4m'\n",
    "   END = '\\033[0m'\n",
    "\n",
    "def chat_response(a):\n",
    "    pred = learn.predict(a)\n",
    "    df = pd.DataFrame(pred[2], columns = ['pct'])\n",
    "    df['label_idx'] = df.index\n",
    "    df = df.sort_values('pct', ascending=False).iloc[:50]\n",
    "    url_df = pd.DataFrame(learn.dls.vocab[1])\n",
    "    url_df['label_idx'] = url_df.index\n",
    "    df = df.merge(url_df)\n",
    "    df.columns = ['pct', 'idx', 'joincol']\n",
    "    df = df.merge(sdf)\n",
    "    df['score'] = df['pct'] / (df['text length'] + 50) * 10000\n",
    "    df = df.sort_values('score', ascending=False)\n",
    "    for i in range(0,5):\n",
    "        breakup_text(color.BOLD + df.iloc[i]['headline'])\n",
    "        breakup_text(color.GREEN + df.iloc[i]['subheading'] + color.END + '\\n')\n",
    "        breakup_text(df.iloc[i]['text'])\n",
    "        print(df.iloc[i]['url'] + '\\n\\n')"
   ]
  },
  {
   "cell_type": "code",
   "execution_count": 6,
   "id": "2ddfd527",
   "metadata": {},
   "outputs": [
    {
     "data": {
      "application/vnd.jupyter.widget-view+json": {
       "model_id": "7fb49710e94046c396596bc57e042936",
       "version_major": 2,
       "version_minor": 0
      },
      "text/plain": [
       "HBox(children=(VBox(children=(Textarea(value='How do I save more?', description='Chat:', placeholder='Write yo…"
      ]
     },
     "metadata": {},
     "output_type": "display_data"
    }
   ],
   "source": [
    "a = widgets.Textarea(\n",
    "    value='How do I save more?',\n",
    "    placeholder='Write your quetion here!',\n",
    "    description='Chat:',\n",
    "    disabled=False\n",
    ")\n",
    "def f(a):\n",
    "    print('{}'.format(a + '\\n' + a))\n",
    "\n",
    "out = widgets.interactive_output(chat_response, {'a': a})\n",
    "\n",
    "widgets.HBox([widgets.VBox([a]), out])"
   ]
  },
  {
   "cell_type": "code",
   "execution_count": 31,
   "id": "20b3836e",
   "metadata": {},
   "outputs": [],
   "source": [
    "# a = widgets.Text(\n",
    "#     value='How do I save more?',\n",
    "#     placeholder='Paste ticket description here!',\n",
    "#     description='Chat:',\n",
    "#     disabled=False\n",
    "# )\n",
    "# def f(a):\n",
    "#     print('{}'.format(a + '\\n' + a))\n",
    "\n",
    "# out = widgets.interactive_output(f, {'a': a})\n",
    "\n",
    "# widgets.HBox([widgets.VBox([a]), out])"
   ]
  },
  {
   "cell_type": "code",
   "execution_count": null,
   "id": "4ff981fd",
   "metadata": {},
   "outputs": [],
   "source": []
  }
 ],
 "metadata": {
  "environment": {
   "name": "common-cu110.m76",
   "type": "gcloud",
   "uri": "gcr.io/deeplearning-platform-release/base-cu110:m76"
  },
  "kernelspec": {
   "display_name": "fastai",
   "language": "python",
   "name": "fastai"
  },
  "language_info": {
   "codemirror_mode": {
    "name": "ipython",
    "version": 3
   },
   "file_extension": ".py",
   "mimetype": "text/x-python",
   "name": "python",
   "nbconvert_exporter": "python",
   "pygments_lexer": "ipython3",
   "version": "3.8.10"
  }
 },
 "nbformat": 4,
 "nbformat_minor": 5
}
