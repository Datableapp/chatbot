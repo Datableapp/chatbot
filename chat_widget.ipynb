{
 "cells": [
  {
   "cell_type": "markdown",
   "id": "9a8d5f50",
   "metadata": {},
   "source": [
    "# Saverlife Chatbot Demo\n",
    "### Write a question and hit enter"
   ]
  },
  {
   "cell_type": "code",
   "execution_count": 55,
   "id": "027b6af1",
   "metadata": {},
   "outputs": [],
   "source": [
    "# !pip install voila\n",
    "# !jupyter serverextension enable --sys-prefix voila "
   ]
  },
  {
   "cell_type": "code",
   "execution_count": 56,
   "id": "ea0e32bf",
   "metadata": {},
   "outputs": [],
   "source": [
    "import ipywidgets as widgets\n",
    "from fastai.text.all import *"
   ]
  },
  {
   "cell_type": "code",
   "execution_count": 57,
   "id": "327d6069",
   "metadata": {},
   "outputs": [],
   "source": [
    "# from platform import python_version\n",
    "# print(python_version())\n",
    "# import torch\n",
    "# print(torch.__version__) \n",
    "# import fastai; fastai.__version__\n",
    "# widgets.__version__\n",
    "# import voila\n",
    "# voila.__version__"
   ]
  },
  {
   "cell_type": "code",
   "execution_count": 59,
   "id": "aea3f5ad",
   "metadata": {},
   "outputs": [],
   "source": [
    "def _end_headline(x):\n",
    "    if type(x) != str: return ''\n",
    "    if x[-1] in ['.', '?', '!', '…', ':', '“', '”']: return x + ' '\n",
    "    else: return x + '. '\n",
    "\n",
    "def prep_text(file = 'text-1-15c.csv'):\n",
    "    df = pd.read_csv(file)\n",
    "    df = df[~df.text.isna()].copy()\n",
    "    df = df[['headline', 'segment', 'subheading', 'text',\n",
    "                               'top_tag', 'url', 'text length']].copy()\n",
    "    df['joincol'] = df['subheading']\n",
    "    df.loc[df.joincol=='','joincol'] = df.loc[df.joincol=='','headline']\n",
    "    df.joincol = df.joincol.map(_end_headline).values\n",
    "    df = df[df.headline.map(lambda x: x[:33]) != \"Ask an Expert episode 2 follow-up\"]\n",
    "    return(df)\n",
    "\n",
    "def breakup_text(text, max=90):\n",
    "    if len(text) < max:\n",
    "        print(text)\n",
    "    else:\n",
    "        for i in range(max-1,1,-1):\n",
    "            if text[i] == ' ':\n",
    "                print(text[:i])\n",
    "                break\n",
    "        breakup_text(text[i:].strip())\n",
    "\n",
    "# sdf = prep_text()\n",
    "# sdf.to_pickle('segment_df.pkl')\n",
    "sdf = pd.read_pickle('segment_df.pkl')"
   ]
  },
  {
   "cell_type": "code",
   "execution_count": 58,
   "id": "0c4e744b",
   "metadata": {},
   "outputs": [],
   "source": [
    "import urllib.request\n",
    "\n",
    "MODEL_URL = \"https://www.dropbox.com/s/tmu82r4pd9h0ek8/chat_model.pkl?dl=1\"\n",
    "\n",
    "urllib.request.urlretrieve(MODEL_URL, \"model.pkl\")\n",
    "\n",
    "learn = load_learner(\"model.pkl\")"
   ]
  },
  {
   "cell_type": "code",
   "execution_count": 68,
   "id": "13de1f97",
   "metadata": {},
   "outputs": [],
   "source": [
    "class color:\n",
    "   PURPLE = '\\033[95m'\n",
    "   CYAN = '\\033[96m'\n",
    "   DARKCYAN = '\\033[36m'\n",
    "   BLUE = '\\033[94m'\n",
    "   GREEN = '\\033[92m'\n",
    "   YELLOW = '\\033[93m'\n",
    "   RED = '\\033[91m'\n",
    "   BOLD = '\\033[1m'\n",
    "   UNDERLINE = '\\033[4m'\n",
    "   END = '\\033[0m'\n",
    "\n",
    "def chat_response(text, n):\n",
    "    pred = learn.predict(text)\n",
    "    df = pd.DataFrame(pred[2], columns = ['pct'])\n",
    "    df['label_idx'] = df.index\n",
    "    df = df.sort_values('pct', ascending=False).iloc[:50]\n",
    "    url_df = pd.DataFrame(learn.dls.vocab[1])\n",
    "    url_df['label_idx'] = url_df.index\n",
    "    df = df.merge(url_df)\n",
    "    df.columns = ['pct', 'idx', 'joincol']\n",
    "    df = df.merge(sdf)\n",
    "    df['score'] = df['pct'] / (df['text length'] + 50) * 10000\n",
    "    df = df.sort_values('score', ascending=False)\n",
    "    print(f'{color.RED}Here are our top {n} results:{color.END}')\n",
    "    for i in range(0,n):\n",
    "        print(color.BOLD + color.UNDERLINE)\n",
    "        breakup_text(df.iloc[i]['headline'])\n",
    "        print(color.END + color.BOLD + color.DARKCYAN)\n",
    "        breakup_text(df.iloc[i]['subheading'])\n",
    "        print(color.END)\n",
    "        breakup_text(df.iloc[i]['text'])\n",
    "        print(f\"\\n{color.GREEN}Read the full article on the SaverLife Blog\")\n",
    "        print(df.iloc[i]['url'])\n",
    "        print(color.END)"
   ]
  },
  {
   "cell_type": "code",
   "execution_count": 71,
   "id": "2ddfd527",
   "metadata": {},
   "outputs": [
    {
     "data": {
      "application/vnd.jupyter.widget-view+json": {
       "model_id": "0a5494c22c7b45dd9ce4e1e05e33cbaa",
       "version_major": 2,
       "version_minor": 0
      },
      "text/plain": [
       "HBox(children=(VBox(children=(Text(value='How do I save more?', continuous_update=False, description='Question…"
      ]
     },
     "metadata": {},
     "output_type": "display_data"
    }
   ],
   "source": [
    "textbox = widgets.Text(\n",
    "    value='How do I save more?',\n",
    "    placeholder='Write your quetion here!',\n",
    "    description='Question:',\n",
    "    disabled=False,\n",
    "    continuous_update=False\n",
    ")\n",
    "\n",
    "slider = widgets.IntSlider(\n",
    "    description='Responses', max=20, min=1, value=3, continuous_update=False)\n",
    "\n",
    "\n",
    "out = widgets.interactive_output(chat_response, {'text': textbox, 'n': slider})\n",
    "\n",
    "widgets.HBox([widgets.VBox([textbox, slider])])"
   ]
  },
  {
   "cell_type": "code",
   "execution_count": 66,
   "id": "e08c84bb",
   "metadata": {},
   "outputs": [],
   "source": [
    "# a.on_submit(chat_response)"
   ]
  },
  {
   "cell_type": "code",
   "execution_count": 72,
   "id": "48d19e4b",
   "metadata": {},
   "outputs": [
    {
     "data": {
      "application/vnd.jupyter.widget-view+json": {
       "model_id": "816a64c64992436ca3f28e4b29ed9e5e",
       "version_major": 2,
       "version_minor": 0
      },
      "text/plain": [
       "HBox(children=(Output(outputs=({'output_type': 'display_data', 'data': {'text/plain': '<IPython.core.display.H…"
      ]
     },
     "metadata": {},
     "output_type": "display_data"
    }
   ],
   "source": [
    "widgets.HBox([out])"
   ]
  },
  {
   "cell_type": "code",
   "execution_count": 31,
   "id": "20b3836e",
   "metadata": {},
   "outputs": [],
   "source": [
    "# a = widgets.Text(\n",
    "#     value='How do I save more?',\n",
    "#     placeholder='Paste ticket description here!',\n",
    "#     description='Chat:',\n",
    "#     disabled=False\n",
    "# )\n",
    "# def f(a):\n",
    "#     print('{}'.format(a + '\\n' + a))\n",
    "\n",
    "# out = widgets.interactive_output(f, {'a': a})\n",
    "\n",
    "# widgets.HBox([widgets.VBox([a]), out])"
   ]
  },
  {
   "cell_type": "code",
   "execution_count": null,
   "id": "4ff981fd",
   "metadata": {},
   "outputs": [],
   "source": []
  }
 ],
 "metadata": {
  "environment": {
   "name": "common-cu110.m76",
   "type": "gcloud",
   "uri": "gcr.io/deeplearning-platform-release/base-cu110:m76"
  },
  "kernelspec": {
   "display_name": "Python 3",
   "language": "python",
   "name": "python3"
  },
  "language_info": {
   "codemirror_mode": {
    "name": "ipython",
    "version": 3
   },
   "file_extension": ".py",
   "mimetype": "text/x-python",
   "name": "python",
   "nbconvert_exporter": "python",
   "pygments_lexer": "ipython3",
   "version": "3.7.10"
  }
 },
 "nbformat": 4,
 "nbformat_minor": 5
}
